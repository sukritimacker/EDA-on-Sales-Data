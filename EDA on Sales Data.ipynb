{
 "cells": [
  {
   "cell_type": "markdown",
   "metadata": {},
   "source": [
    "# CODE FOR EDA ON SALES DATA"
   ]
  },
  {
   "cell_type": "markdown",
   "metadata": {},
   "source": [
    "### Importing Required Libraries"
   ]
  },
  {
   "cell_type": "code",
   "execution_count": 1,
   "metadata": {},
   "outputs": [],
   "source": [
    "# For Data Manipulation\n",
    "import pandas as pd\n",
    "import numpy as np\n",
    "\n",
    "# For Data Visualization\n",
    "import matplotlib.pyplot as plt\n",
    "import seaborn as sns"
   ]
  },
  {
   "cell_type": "markdown",
   "metadata": {},
   "source": [
    "### Importing the dataset"
   ]
  },
  {
   "cell_type": "code",
   "execution_count": 2,
   "metadata": {},
   "outputs": [],
   "source": [
    "data=pd.read_excel(\"C:/Users/Sukriti Macker/All Internship Works/Peacock Solar/Peacock Solar Data Analytics Intern/Sales.xlsx\")"
   ]
  },
  {
   "cell_type": "code",
   "execution_count": 3,
   "metadata": {},
   "outputs": [
    {
     "data": {
      "text/html": [
       "<div>\n",
       "<style scoped>\n",
       "    .dataframe tbody tr th:only-of-type {\n",
       "        vertical-align: middle;\n",
       "    }\n",
       "\n",
       "    .dataframe tbody tr th {\n",
       "        vertical-align: top;\n",
       "    }\n",
       "\n",
       "    .dataframe thead th {\n",
       "        text-align: right;\n",
       "    }\n",
       "</style>\n",
       "<table border=\"1\" class=\"dataframe\">\n",
       "  <thead>\n",
       "    <tr style=\"text-align: right;\">\n",
       "      <th></th>\n",
       "      <th>Unnamed: 0</th>\n",
       "      <th>Unnamed: 1</th>\n",
       "      <th>Unnamed: 2</th>\n",
       "      <th>Unnamed: 3</th>\n",
       "      <th>Unnamed: 4</th>\n",
       "      <th>Unnamed: 5</th>\n",
       "      <th>Unnamed: 6</th>\n",
       "      <th>Unnamed: 7</th>\n",
       "      <th>Unnamed: 8</th>\n",
       "      <th>Unnamed: 9</th>\n",
       "      <th>...</th>\n",
       "      <th>Unnamed: 19</th>\n",
       "      <th>Unnamed: 20</th>\n",
       "      <th>Unnamed: 21</th>\n",
       "      <th>Unnamed: 22</th>\n",
       "      <th>Unnamed: 23</th>\n",
       "      <th>Unnamed: 24</th>\n",
       "      <th>Unnamed: 25</th>\n",
       "      <th>Unnamed: 26</th>\n",
       "      <th>Unnamed: 27</th>\n",
       "      <th>Unnamed: 28</th>\n",
       "    </tr>\n",
       "  </thead>\n",
       "  <tbody>\n",
       "    <tr>\n",
       "      <th>0</th>\n",
       "      <td>NaN</td>\n",
       "      <td>NaN</td>\n",
       "      <td>NaN</td>\n",
       "      <td>NaN</td>\n",
       "      <td>NaN</td>\n",
       "      <td>NaN</td>\n",
       "      <td>NaN</td>\n",
       "      <td>NaN</td>\n",
       "      <td>NaN</td>\n",
       "      <td>NaN</td>\n",
       "      <td>...</td>\n",
       "      <td>NaN</td>\n",
       "      <td>NaN</td>\n",
       "      <td>NaN</td>\n",
       "      <td>NaN</td>\n",
       "      <td>NaN</td>\n",
       "      <td>NaN</td>\n",
       "      <td>NaN</td>\n",
       "      <td>NaN</td>\n",
       "      <td>NaN</td>\n",
       "      <td>NaN</td>\n",
       "    </tr>\n",
       "    <tr>\n",
       "      <th>1</th>\n",
       "      <td>Timestamp</td>\n",
       "      <td>Select City</td>\n",
       "      <td>Meeting Date and Time</td>\n",
       "      <td>Lead Name</td>\n",
       "      <td>Lead Available</td>\n",
       "      <td>Meeting Re-schedule Date and Time</td>\n",
       "      <td>Lead Interested ...?</td>\n",
       "      <td>Source</td>\n",
       "      <td>Follow-Up Date and Time</td>\n",
       "      <td>Reason for Denial</td>\n",
       "      <td>...</td>\n",
       "      <td>Project Type</td>\n",
       "      <td>Project Load Capacity</td>\n",
       "      <td>Quotation Proposed</td>\n",
       "      <td>Quotation..?</td>\n",
       "      <td>Any Additional Commitment</td>\n",
       "      <td>Does Project Confirmed ?</td>\n",
       "      <td>Any follow-up required..?</td>\n",
       "      <td>Source2</td>\n",
       "      <td>Reason for Denial2</td>\n",
       "      <td>Please mention the highlights of the Meetings</td>\n",
       "    </tr>\n",
       "    <tr>\n",
       "      <th>2</th>\n",
       "      <td>2019/11/01 3:58:57 PM GMT+5:30</td>\n",
       "      <td>Jaipur</td>\n",
       "      <td>2019-11-01 13:40:00</td>\n",
       "      <td>Nirmal mehta ji</td>\n",
       "      <td>Yes</td>\n",
       "      <td>NaN</td>\n",
       "      <td>Yes</td>\n",
       "      <td>NaN</td>\n",
       "      <td>NaN</td>\n",
       "      <td>NaN</td>\n",
       "      <td>...</td>\n",
       "      <td>On-Grid</td>\n",
       "      <td>11</td>\n",
       "      <td>45</td>\n",
       "      <td>Excluding GST</td>\n",
       "      <td>NaN</td>\n",
       "      <td>NaN</td>\n",
       "      <td>NaN</td>\n",
       "      <td>NaN</td>\n",
       "      <td>NaN</td>\n",
       "      <td>Final meeting after subsidy confirm from rrecl</td>\n",
       "    </tr>\n",
       "    <tr>\n",
       "      <th>3</th>\n",
       "      <td>2019/11/05 4:34:02 PM GMT+5:30</td>\n",
       "      <td>Indore</td>\n",
       "      <td>2019-11-05 16:00:00</td>\n",
       "      <td>Rajesh Chauhan</td>\n",
       "      <td>Yes</td>\n",
       "      <td>NaN</td>\n",
       "      <td>Yes, But Later</td>\n",
       "      <td>Peacock Solar Telemarketing</td>\n",
       "      <td>2019-11-11 11:00:00</td>\n",
       "      <td>Reason not given by Lead</td>\n",
       "      <td>...</td>\n",
       "      <td>NaN</td>\n",
       "      <td>NaN</td>\n",
       "      <td>NaN</td>\n",
       "      <td>NaN</td>\n",
       "      <td>NaN</td>\n",
       "      <td>NaN</td>\n",
       "      <td>NaN</td>\n",
       "      <td>NaN</td>\n",
       "      <td>NaN</td>\n",
       "      <td>Need to Call and Check for the Meeting.</td>\n",
       "    </tr>\n",
       "  </tbody>\n",
       "</table>\n",
       "<p>4 rows × 29 columns</p>\n",
       "</div>"
      ],
      "text/plain": [
       "                       Unnamed: 0   Unnamed: 1             Unnamed: 2  \\\n",
       "0                             NaN          NaN                    NaN   \n",
       "1                       Timestamp  Select City  Meeting Date and Time   \n",
       "2  2019/11/01 3:58:57 PM GMT+5:30       Jaipur    2019-11-01 13:40:00   \n",
       "3  2019/11/05 4:34:02 PM GMT+5:30       Indore    2019-11-05 16:00:00   \n",
       "\n",
       "        Unnamed: 3      Unnamed: 4                         Unnamed: 5  \\\n",
       "0              NaN             NaN                                NaN   \n",
       "1        Lead Name  Lead Available  Meeting Re-schedule Date and Time   \n",
       "2  Nirmal mehta ji             Yes                                NaN   \n",
       "3   Rajesh Chauhan             Yes                                NaN   \n",
       "\n",
       "             Unnamed: 6                   Unnamed: 7               Unnamed: 8  \\\n",
       "0                   NaN                          NaN                      NaN   \n",
       "1  Lead Interested ...?                       Source  Follow-Up Date and Time   \n",
       "2                   Yes                          NaN                      NaN   \n",
       "3        Yes, But Later  Peacock Solar Telemarketing      2019-11-11 11:00:00   \n",
       "\n",
       "                 Unnamed: 9  ...   Unnamed: 19            Unnamed: 20  \\\n",
       "0                       NaN  ...           NaN                    NaN   \n",
       "1         Reason for Denial  ...  Project Type  Project Load Capacity   \n",
       "2                       NaN  ...       On-Grid                     11   \n",
       "3  Reason not given by Lead  ...           NaN                    NaN   \n",
       "\n",
       "          Unnamed: 21    Unnamed: 22                Unnamed: 23  \\\n",
       "0                 NaN            NaN                        NaN   \n",
       "1  Quotation Proposed   Quotation..?  Any Additional Commitment   \n",
       "2                  45  Excluding GST                        NaN   \n",
       "3                 NaN            NaN                        NaN   \n",
       "\n",
       "                Unnamed: 24                Unnamed: 25 Unnamed: 26  \\\n",
       "0                       NaN                        NaN         NaN   \n",
       "1  Does Project Confirmed ?  Any follow-up required..?     Source2   \n",
       "2                       NaN                        NaN         NaN   \n",
       "3                       NaN                        NaN         NaN   \n",
       "\n",
       "          Unnamed: 27                                     Unnamed: 28  \n",
       "0                 NaN                                             NaN  \n",
       "1  Reason for Denial2   Please mention the highlights of the Meetings  \n",
       "2                 NaN  Final meeting after subsidy confirm from rrecl  \n",
       "3                 NaN         Need to Call and Check for the Meeting.  \n",
       "\n",
       "[4 rows x 29 columns]"
      ]
     },
     "execution_count": 3,
     "metadata": {},
     "output_type": "execute_result"
    }
   ],
   "source": [
    "data.head(4)"
   ]
  },
  {
   "cell_type": "code",
   "execution_count": 4,
   "metadata": {},
   "outputs": [],
   "source": [
    "## Changing the names of the columns in the data to desired values\n",
    "\n",
    "names=[]\n",
    "columns=data.iloc[1]\n",
    "for i in columns:\n",
    "    names.append(i)\n",
    "    \n",
    "data = pd.read_excel(\"C:/Users/Sukriti Macker/All Internship Works/Peacock Solar/Peacock Solar Data Analytics Intern/Sales.xlsx\", names=names)"
   ]
  },
  {
   "cell_type": "markdown",
   "metadata": {},
   "source": [
    "### Data Manipulation"
   ]
  },
  {
   "cell_type": "code",
   "execution_count": 5,
   "metadata": {},
   "outputs": [],
   "source": [
    "data.drop(labels=[0,1],axis=0,inplace=True) # Dropping Unnamed Columns "
   ]
  },
  {
   "cell_type": "code",
   "execution_count": 6,
   "metadata": {},
   "outputs": [],
   "source": [
    "data.reset_index(drop=True,inplace=True) # Reseting the Index Values"
   ]
  },
  {
   "cell_type": "markdown",
   "metadata": {},
   "source": [
    "#### Analyzing the NULL or the Missing Values"
   ]
  },
  {
   "cell_type": "code",
   "execution_count": 7,
   "metadata": {},
   "outputs": [
    {
     "name": "stdout",
     "output_type": "stream",
     "text": [
      "<class 'pandas.core.frame.DataFrame'>\n",
      "RangeIndex: 120 entries, 0 to 119\n",
      "Data columns (total 29 columns):\n",
      " #   Column                                              Non-Null Count  Dtype \n",
      "---  ------                                              --------------  ----- \n",
      " 0   Timestamp                                           120 non-null    object\n",
      " 1   Select City                                         120 non-null    object\n",
      " 2   Meeting Date and Time                               120 non-null    object\n",
      " 3   Lead Name                                           120 non-null    object\n",
      " 4   Lead Available                                      120 non-null    object\n",
      " 5   Meeting Re-schedule Date and Time                   25 non-null     object\n",
      " 6   Lead Interested ...?                                97 non-null     object\n",
      " 7   Source                                              64 non-null     object\n",
      " 8   Follow-Up Date and Time                             65 non-null     object\n",
      " 9   Reason for Denial                                   65 non-null     object\n",
      " 10  Lead Average Monthly Electricity Bill               19 non-null     object\n",
      " 11  No. of Heavy Appliances in the House                19 non-null     object\n",
      " 12  Lead Occupation                                     19 non-null     object\n",
      " 13  Lead having Power Backup..?                         19 non-null     object\n",
      " 14  Purpose for Solar Installation                      19 non-null     object\n",
      " 15  Source.1                                            19 non-null     object\n",
      " 16  Rooftop Size                                        19 non-null     object\n",
      " 17  Stories in the House                                19 non-null     object\n",
      " 18  How much lead is interested for Solar Installation  19 non-null     object\n",
      " 19  Project Type                                        19 non-null     object\n",
      " 20  Project Load Capacity                               19 non-null     object\n",
      " 21  Quotation Proposed                                  19 non-null     object\n",
      " 22  Quotation..?                                        19 non-null     object\n",
      " 23  Any Additional Commitment                           6 non-null      object\n",
      " 24  Does Project Confirmed ?                            15 non-null     object\n",
      " 25  Any follow-up required..?                           8 non-null      object\n",
      " 26  Source2                                             13 non-null     object\n",
      " 27  Reason for Denial2                                  13 non-null     object\n",
      " 28  Please mention the highlights of the Meetings       97 non-null     object\n",
      "dtypes: object(29)\n",
      "memory usage: 27.3+ KB\n"
     ]
    }
   ],
   "source": [
    "data.info()"
   ]
  },
  {
   "cell_type": "code",
   "execution_count": 8,
   "metadata": {},
   "outputs": [
    {
     "data": {
      "text/plain": [
       "<matplotlib.axes._subplots.AxesSubplot at 0x2d0c93b78c8>"
      ]
     },
     "execution_count": 8,
     "metadata": {},
     "output_type": "execute_result"
    },
    {
     "data": {
      "image/png": "[encoded data removed]",
      "text/plain": [
       "<Figure size 432x288 with 1 Axes>"
      ]
     },
     "metadata": {
      "needs_background": "light"
     },
     "output_type": "display_data"
    }
   ],
   "source": [
    "sns.heatmap(data.isnull(), cbar = False)"
   ]
  },
  {
   "cell_type": "markdown",
   "metadata": {},
   "source": [
    "#### Filling NA or NULL values using Mean, Median or Mode AND Dropping the columns having nearly no values"
   ]
  },
  {
   "cell_type": "code",
   "execution_count": 10,
   "metadata": {},
   "outputs": [],
   "source": [
    "data[\"Reason for Denial2\"].fillna(\"\",inplace=True)\n",
    "data[\"Reason for Denial\"].fillna(\"\",inplace=True)"
   ]
  },
  {
   "cell_type": "code",
   "execution_count": 11,
   "metadata": {},
   "outputs": [
    {
     "data": {
      "text/plain": [
       "0                                                     \n",
       "1                             Reason not given by Lead\n",
       "2                                                     \n",
       "3                             Living in a Leased House\n",
       "4                             Reason not given by Lead\n",
       "                            ...                       \n",
       "115                                                   \n",
       "116                                                   \n",
       "117                        He will talk to his partnee\n",
       "118    Looking for Govt. Subsidized Solar Installation\n",
       "119                                                   \n",
       "Name: Denial, Length: 120, dtype: object"
      ]
     },
     "execution_count": 11,
     "metadata": {},
     "output_type": "execute_result"
    }
   ],
   "source": [
    "data[\"Denial\"]=data[\"Reason for Denial\"]+data[\"Reason for Denial2\"]\n",
    "data[\"Denial\"]"
   ]
  },
  {
   "cell_type": "code",
   "execution_count": 12,
   "metadata": {},
   "outputs": [],
   "source": [
    "data[\"Denial\"].fillna(data[\"Denial\"].mode()[0],inplace=True)"
   ]
  },
  {
   "cell_type": "code",
   "execution_count": 13,
   "metadata": {},
   "outputs": [],
   "source": [
    "data.drop(\"Reason for Denial2\",axis=1,inplace=True)\n",
    "data.drop(\"Reason for Denial\",axis=1,inplace=True)\n",
    "data.drop(\"Lead Name\",axis=1,inplace=True)\n",
    "data.drop(\"Lead Available\",axis=1,inplace=True)\n",
    "data.drop(\"Meeting Re-schedule Date and Time\",axis=1,inplace=True)\n",
    "data.drop(\"Source\",axis=1,inplace=True)\n",
    "data.drop(\"Follow-Up Date and Time\",axis=1,inplace=True)\n",
    "data.drop(\"Purpose for Solar Installation\",axis=1,inplace=True)\n",
    "data.drop(\"Source.1\",axis=1,inplace=True)\n",
    "data.drop(\"Rooftop Size\",axis=1,inplace=True)\n",
    "data.drop(\"Project Type\",axis=1,inplace=True)\n",
    "data.drop(\"Project Load Capacity\",axis=1,inplace=True)\n",
    "data.drop(\"Quotation Proposed\",axis=1,inplace=True)\n",
    "data.drop(\"Quotation..?\",axis=1,inplace=True)\n",
    "data.drop(\"Any Additional Commitment\",axis=1,inplace=True)\n",
    "data.drop(\"Any follow-up required..?\",axis=1,inplace=True)\n",
    "data.drop(\"Source2\",axis=1,inplace=True)\n",
    "data.drop(\"Please mention the highlights of the Meetings\",axis=1,inplace=True)\n",
    "data.drop(\"Timestamp\",axis=1,inplace=True)\n",
    "data.drop(\"Stories in the House\",axis=1,inplace=True)"
   ]
  },
  {
   "cell_type": "code",
   "execution_count": 14,
   "metadata": {},
   "outputs": [
    {
     "name": "stdout",
     "output_type": "stream",
     "text": [
      "<class 'pandas.core.frame.DataFrame'>\n",
      "RangeIndex: 120 entries, 0 to 119\n",
      "Data columns (total 10 columns):\n",
      " #   Column                                              Non-Null Count  Dtype \n",
      "---  ------                                              --------------  ----- \n",
      " 0   Select City                                         120 non-null    object\n",
      " 1   Meeting Date and Time                               120 non-null    object\n",
      " 2   Lead Interested ...?                                97 non-null     object\n",
      " 3   Lead Average Monthly Electricity Bill               19 non-null     object\n",
      " 4   No. of Heavy Appliances in the House                19 non-null     object\n",
      " 5   Lead Occupation                                     19 non-null     object\n",
      " 6   Lead having Power Backup..?                         19 non-null     object\n",
      " 7   How much lead is interested for Solar Installation  19 non-null     object\n",
      " 8   Does Project Confirmed ?                            15 non-null     object\n",
      " 9   Denial                                              120 non-null    object\n",
      "dtypes: object(10)\n",
      "memory usage: 9.5+ KB\n"
     ]
    }
   ],
   "source": [
    "data.info()"
   ]
  },
  {
   "cell_type": "code",
   "execution_count": 15,
   "metadata": {},
   "outputs": [
    {
     "name": "stdout",
     "output_type": "stream",
     "text": [
      "<class 'pandas.core.frame.DataFrame'>\n",
      "Int64Index: 97 entries, 0 to 118\n",
      "Data columns (total 10 columns):\n",
      " #   Column                                              Non-Null Count  Dtype \n",
      "---  ------                                              --------------  ----- \n",
      " 0   Select City                                         97 non-null     object\n",
      " 1   Meeting Date and Time                               97 non-null     object\n",
      " 2   Lead Interested ...?                                97 non-null     object\n",
      " 3   Lead Average Monthly Electricity Bill               19 non-null     object\n",
      " 4   No. of Heavy Appliances in the House                19 non-null     object\n",
      " 5   Lead Occupation                                     19 non-null     object\n",
      " 6   Lead having Power Backup..?                         19 non-null     object\n",
      " 7   How much lead is interested for Solar Installation  19 non-null     object\n",
      " 8   Does Project Confirmed ?                            15 non-null     object\n",
      " 9   Denial                                              97 non-null     object\n",
      "dtypes: object(10)\n",
      "memory usage: 8.3+ KB\n"
     ]
    }
   ],
   "source": [
    "data.dropna(subset=[\"Lead Interested ...?\"],inplace=True)\n",
    "data.info()"
   ]
  },
  {
   "cell_type": "code",
   "execution_count": 16,
   "metadata": {},
   "outputs": [],
   "source": [
    "data[\"Lead Interested ...?\"].fillna(data[\"Lead Interested ...?\"].mode()[0],inplace=True)"
   ]
  },
  {
   "cell_type": "code",
   "execution_count": 17,
   "metadata": {},
   "outputs": [],
   "source": [
    "def change(var):\n",
    "    if 'but' in var:\n",
    "        return var.replace(var,\"Yes\")\n",
    "    if 'But' in var:\n",
    "        return var.replace(var,\"Yes\")\n",
    "    else:\n",
    "        return var"
   ]
  },
  {
   "cell_type": "code",
   "execution_count": 18,
   "metadata": {},
   "outputs": [],
   "source": [
    "data[\"Lead Interested ...?\"]=data[\"Lead Interested ...?\"].apply(change)"
   ]
  },
  {
   "cell_type": "markdown",
   "metadata": {},
   "source": [
    "#### Uniforming the Data"
   ]
  },
  {
   "cell_type": "code",
   "execution_count": 22,
   "metadata": {},
   "outputs": [],
   "source": [
    "## Converting the Electrcity bill from string values to int values\n",
    "\n",
    "def convert_to_int(string):\n",
    "    return float(string)"
   ]
  },
  {
   "cell_type": "code",
   "execution_count": 23,
   "metadata": {},
   "outputs": [],
   "source": [
    "data[\"Lead Average Monthly Electricity Bill\"] = data[\"Lead Average Monthly Electricity Bill\"].apply(convert_to_int)"
   ]
  },
  {
   "cell_type": "markdown",
   "metadata": {},
   "source": [
    "<br> </br>"
   ]
  },
  {
   "cell_type": "code",
   "execution_count": 24,
   "metadata": {},
   "outputs": [],
   "source": [
    "## Filling up the missing values for Reasons of Denial given by the Customer\n",
    "\n",
    "a = data[\"Denial\"].mode()[0]"
   ]
  },
  {
   "cell_type": "code",
   "execution_count": 25,
   "metadata": {},
   "outputs": [],
   "source": [
    "def fill_in_the_blanks(var):\n",
    "    if var=='':\n",
    "        return 'Reason not given by Lead'  \n",
    "    else:\n",
    "        return var"
   ]
  },
  {
   "cell_type": "code",
   "execution_count": 26,
   "metadata": {},
   "outputs": [],
   "source": [
    "data[\"Denial\"]=data[\"Denial\"].apply(fill_in_the_blanks)"
   ]
  },
  {
   "cell_type": "code",
   "execution_count": 27,
   "metadata": {},
   "outputs": [],
   "source": [
    "## Filling NA vlaues\n",
    "\n",
    "\n",
    "data[\"Select City\"].fillna(data[\"Select City\"].mode()[0],inplace=True)\n",
    "data[\"Meeting Date and Time\"].fillna(data[\"Meeting Date and Time\"].mode()[0],inplace=True)\n",
    "data[\"Lead Interested ...?\"].fillna(data[\"Lead Interested ...?\"].mode()[0],inplace=True)\n",
    "data[\"Lead Average Monthly Electricity Bill\"].fillna(data[\"Lead Average Monthly Electricity Bill\"].median(),inplace=True)\n",
    "data[\"Lead Occupation\"].fillna(data[\"Lead Occupation\"].mode()[0],inplace=True)\n",
    "data[\"Lead having Power Backup..?\"].fillna(data[\"Lead having Power Backup..?\"].mode()[0],inplace=True)\n",
    "data[\"How much lead is interested for Solar Installation\"].fillna(data[\"How much lead is interested for Solar Installation\"].mode()[0],inplace=True)\n",
    "data[\"Does Project Confirmed ?\"].fillna(data[\"Does Project Confirmed ?\"].mode()[0],inplace=True)\n",
    "data[\"Denial\"].fillna(data[\"Denial\"].mode()[0],inplace=True)\n",
    "data[\"No. of Heavy Appliances in the House\"].fillna(data[\"No. of Heavy Appliances in the House\"].median(),inplace=True)\n"
   ]
  },
  {
   "cell_type": "markdown",
   "metadata": {},
   "source": [
    "## CLEANED DATA"
   ]
  },
  {
   "cell_type": "code",
   "execution_count": 29,
   "metadata": {
    "scrolled": true
   },
   "outputs": [
    {
     "data": {
      "text/html": [
       "<div>\n",
       "<style scoped>\n",
       "    .dataframe tbody tr th:only-of-type {\n",
       "        vertical-align: middle;\n",
       "    }\n",
       "\n",
       "    .dataframe tbody tr th {\n",
       "        vertical-align: top;\n",
       "    }\n",
       "\n",
       "    .dataframe thead th {\n",
       "        text-align: right;\n",
       "    }\n",
       "</style>\n",
       "<table border=\"1\" class=\"dataframe\">\n",
       "  <thead>\n",
       "    <tr style=\"text-align: right;\">\n",
       "      <th></th>\n",
       "      <th>Select City</th>\n",
       "      <th>Meeting Date and Time</th>\n",
       "      <th>Lead Interested ...?</th>\n",
       "      <th>Lead Average Monthly Electricity Bill</th>\n",
       "      <th>No. of Heavy Appliances in the House</th>\n",
       "      <th>Lead Occupation</th>\n",
       "      <th>Lead having Power Backup..?</th>\n",
       "      <th>How much lead is interested for Solar Installation</th>\n",
       "      <th>Does Project Confirmed ?</th>\n",
       "      <th>Denial</th>\n",
       "    </tr>\n",
       "  </thead>\n",
       "  <tbody>\n",
       "    <tr>\n",
       "      <th>0</th>\n",
       "      <td>Jaipur</td>\n",
       "      <td>2019-11-01 13:40:00</td>\n",
       "      <td>Yes</td>\n",
       "      <td>9000.0</td>\n",
       "      <td>3.0</td>\n",
       "      <td>Bank manger retiered</td>\n",
       "      <td>NO</td>\n",
       "      <td>Least Likely ( Less than 40% )</td>\n",
       "      <td>No</td>\n",
       "      <td>Reason not given by Lead</td>\n",
       "    </tr>\n",
       "    <tr>\n",
       "      <th>1</th>\n",
       "      <td>Indore</td>\n",
       "      <td>2019-11-05 16:00:00</td>\n",
       "      <td>Yes</td>\n",
       "      <td>10000.0</td>\n",
       "      <td>5.0</td>\n",
       "      <td>Businessmen</td>\n",
       "      <td>NO</td>\n",
       "      <td>Most Likely ( More than 80% )</td>\n",
       "      <td>No</td>\n",
       "      <td>Reason not given by Lead</td>\n",
       "    </tr>\n",
       "    <tr>\n",
       "      <th>3</th>\n",
       "      <td>Indore</td>\n",
       "      <td>2019-11-06 11:00:00</td>\n",
       "      <td>Yes</td>\n",
       "      <td>10000.0</td>\n",
       "      <td>5.0</td>\n",
       "      <td>Businessmen</td>\n",
       "      <td>NO</td>\n",
       "      <td>Most Likely ( More than 80% )</td>\n",
       "      <td>No</td>\n",
       "      <td>Living in a Leased House</td>\n",
       "    </tr>\n",
       "    <tr>\n",
       "      <th>4</th>\n",
       "      <td>Indore</td>\n",
       "      <td>2019-11-06 14:00:00</td>\n",
       "      <td>Yes</td>\n",
       "      <td>10000.0</td>\n",
       "      <td>5.0</td>\n",
       "      <td>Businessmen</td>\n",
       "      <td>NO</td>\n",
       "      <td>Most Likely ( More than 80% )</td>\n",
       "      <td>No</td>\n",
       "      <td>Reason not given by Lead</td>\n",
       "    </tr>\n",
       "    <tr>\n",
       "      <th>5</th>\n",
       "      <td>Indore</td>\n",
       "      <td>2019-11-06 16:00:00</td>\n",
       "      <td>Yes</td>\n",
       "      <td>10000.0</td>\n",
       "      <td>5.0</td>\n",
       "      <td>Businessmen</td>\n",
       "      <td>NO</td>\n",
       "      <td>Most Likely ( More than 80% )</td>\n",
       "      <td>No</td>\n",
       "      <td>Reason not given by Lead</td>\n",
       "    </tr>\n",
       "    <tr>\n",
       "      <th>...</th>\n",
       "      <td>...</td>\n",
       "      <td>...</td>\n",
       "      <td>...</td>\n",
       "      <td>...</td>\n",
       "      <td>...</td>\n",
       "      <td>...</td>\n",
       "      <td>...</td>\n",
       "      <td>...</td>\n",
       "      <td>...</td>\n",
       "      <td>...</td>\n",
       "    </tr>\n",
       "    <tr>\n",
       "      <th>112</th>\n",
       "      <td>Jaipur</td>\n",
       "      <td>2019-11-29 10:13:00</td>\n",
       "      <td>No</td>\n",
       "      <td>10000.0</td>\n",
       "      <td>5.0</td>\n",
       "      <td>Businessmen</td>\n",
       "      <td>NO</td>\n",
       "      <td>Most Likely ( More than 80% )</td>\n",
       "      <td>No</td>\n",
       "      <td>Reason not given by Lead</td>\n",
       "    </tr>\n",
       "    <tr>\n",
       "      <th>113</th>\n",
       "      <td>Jaipur</td>\n",
       "      <td>2019-11-29 17:30:00</td>\n",
       "      <td>Yes</td>\n",
       "      <td>10000.0</td>\n",
       "      <td>5.0</td>\n",
       "      <td>Businessmen</td>\n",
       "      <td>NO</td>\n",
       "      <td>Most Likely ( More than 80% )</td>\n",
       "      <td>No</td>\n",
       "      <td>Reason not given by Lead</td>\n",
       "    </tr>\n",
       "    <tr>\n",
       "      <th>114</th>\n",
       "      <td>Jaipur</td>\n",
       "      <td>2019-11-29 11:30:00</td>\n",
       "      <td>Yes</td>\n",
       "      <td>10000.0</td>\n",
       "      <td>5.0</td>\n",
       "      <td>Businessmen</td>\n",
       "      <td>NO</td>\n",
       "      <td>Most Likely ( More than 80% )</td>\n",
       "      <td>No</td>\n",
       "      <td>High Cost of Solar Installation</td>\n",
       "    </tr>\n",
       "    <tr>\n",
       "      <th>117</th>\n",
       "      <td>Indore</td>\n",
       "      <td>2019-11-30 06:00:00</td>\n",
       "      <td>Yes</td>\n",
       "      <td>10000.0</td>\n",
       "      <td>5.0</td>\n",
       "      <td>Businessmen</td>\n",
       "      <td>NO</td>\n",
       "      <td>Most Likely ( More than 80% )</td>\n",
       "      <td>No</td>\n",
       "      <td>He will talk to his partnee</td>\n",
       "    </tr>\n",
       "    <tr>\n",
       "      <th>118</th>\n",
       "      <td>Indore</td>\n",
       "      <td>2019-11-30 11:00:00</td>\n",
       "      <td>Yes</td>\n",
       "      <td>10000.0</td>\n",
       "      <td>5.0</td>\n",
       "      <td>Businessmen</td>\n",
       "      <td>NO</td>\n",
       "      <td>Most Likely ( More than 80% )</td>\n",
       "      <td>No</td>\n",
       "      <td>Looking for Govt. Subsidized Solar Installation</td>\n",
       "    </tr>\n",
       "  </tbody>\n",
       "</table>\n",
       "<p>97 rows × 10 columns</p>\n",
       "</div>"
      ],
      "text/plain": [
       "    Select City Meeting Date and Time Lead Interested ...?  \\\n",
       "0        Jaipur   2019-11-01 13:40:00                  Yes   \n",
       "1        Indore   2019-11-05 16:00:00                  Yes   \n",
       "3        Indore   2019-11-06 11:00:00                  Yes   \n",
       "4        Indore   2019-11-06 14:00:00                  Yes   \n",
       "5        Indore   2019-11-06 16:00:00                  Yes   \n",
       "..          ...                   ...                  ...   \n",
       "112      Jaipur   2019-11-29 10:13:00                   No   \n",
       "113      Jaipur   2019-11-29 17:30:00                  Yes   \n",
       "114      Jaipur   2019-11-29 11:30:00                  Yes   \n",
       "117      Indore   2019-11-30 06:00:00                  Yes   \n",
       "118      Indore   2019-11-30 11:00:00                  Yes   \n",
       "\n",
       "     Lead Average Monthly Electricity Bill  \\\n",
       "0                                   9000.0   \n",
       "1                                  10000.0   \n",
       "3                                  10000.0   \n",
       "4                                  10000.0   \n",
       "5                                  10000.0   \n",
       "..                                     ...   \n",
       "112                                10000.0   \n",
       "113                                10000.0   \n",
       "114                                10000.0   \n",
       "117                                10000.0   \n",
       "118                                10000.0   \n",
       "\n",
       "     No. of Heavy Appliances in the House       Lead Occupation  \\\n",
       "0                                     3.0  Bank manger retiered   \n",
       "1                                     5.0           Businessmen   \n",
       "3                                     5.0           Businessmen   \n",
       "4                                     5.0           Businessmen   \n",
       "5                                     5.0           Businessmen   \n",
       "..                                    ...                   ...   \n",
       "112                                   5.0           Businessmen   \n",
       "113                                   5.0           Businessmen   \n",
       "114                                   5.0           Businessmen   \n",
       "117                                   5.0           Businessmen   \n",
       "118                                   5.0           Businessmen   \n",
       "\n",
       "    Lead having Power Backup..?  \\\n",
       "0                            NO   \n",
       "1                            NO   \n",
       "3                            NO   \n",
       "4                            NO   \n",
       "5                            NO   \n",
       "..                          ...   \n",
       "112                          NO   \n",
       "113                          NO   \n",
       "114                          NO   \n",
       "117                          NO   \n",
       "118                          NO   \n",
       "\n",
       "    How much lead is interested for Solar Installation  \\\n",
       "0                       Least Likely ( Less than 40% )   \n",
       "1                        Most Likely ( More than 80% )   \n",
       "3                        Most Likely ( More than 80% )   \n",
       "4                        Most Likely ( More than 80% )   \n",
       "5                        Most Likely ( More than 80% )   \n",
       "..                                                 ...   \n",
       "112                      Most Likely ( More than 80% )   \n",
       "113                      Most Likely ( More than 80% )   \n",
       "114                      Most Likely ( More than 80% )   \n",
       "117                      Most Likely ( More than 80% )   \n",
       "118                      Most Likely ( More than 80% )   \n",
       "\n",
       "    Does Project Confirmed ?                                           Denial  \n",
       "0                         No                         Reason not given by Lead  \n",
       "1                         No                         Reason not given by Lead  \n",
       "3                         No                         Living in a Leased House  \n",
       "4                         No                         Reason not given by Lead  \n",
       "5                         No                         Reason not given by Lead  \n",
       "..                       ...                                              ...  \n",
       "112                       No                         Reason not given by Lead  \n",
       "113                       No                         Reason not given by Lead  \n",
       "114                       No                  High Cost of Solar Installation  \n",
       "117                       No                      He will talk to his partnee  \n",
       "118                       No  Looking for Govt. Subsidized Solar Installation  \n",
       "\n",
       "[97 rows x 10 columns]"
      ]
     },
     "execution_count": 29,
     "metadata": {},
     "output_type": "execute_result"
    }
   ],
   "source": [
    "data"
   ]
  },
  {
   "cell_type": "markdown",
   "metadata": {},
   "source": [
    "## DATA VISUALIZATION"
   ]
  },
  {
   "cell_type": "code",
   "execution_count": 30,
   "metadata": {},
   "outputs": [],
   "source": [
    "select_city_list=data[\"Select City\"].to_list()\n",
    "select_city_t=tuple(select_city_list)\n",
    "\n",
    "meeting_date_and_time_list=data[\"Meeting Date and Time\"].to_list()\n",
    "meeting_date_and_time_t=tuple(meeting_date_and_time_list)\n",
    "\n",
    "lead_interested_list=data[\"Lead Interested ...?\"].to_list()\n",
    "lead_interested_t=tuple(lead_interested_list)\n",
    "\n",
    "average_bill_list=data[\"Lead Average Monthly Electricity Bill\"].to_list()\n",
    "average_bill_t=tuple(average_bill_list)\n",
    "\n",
    "appliances_list=data[\"No. of Heavy Appliances in the House\"].to_list()\n",
    "appliances_t=tuple(appliances_list)\n",
    "\n",
    "lead_occupation_list=data[\"Lead Occupation\"].to_list()\n",
    "lead_occupation_t=tuple(lead_occupation_list)\n",
    "\n",
    "power_backup_list=data[\"Lead having Power Backup..?\"].to_list()\n",
    "power_backup_t=tuple(power_backup_list)\n",
    "\n",
    "how_much_interested_list=data[\"How much lead is interested for Solar Installation\"].to_list()\n",
    "how_much_interested_t=tuple(how_much_interested_list)\n",
    "\n",
    "project_confirmed_list=data[\"Does Project Confirmed ?\"].to_list()\n",
    "project_confirmed_t=tuple(project_confirmed_list)\n",
    "\n",
    "denial_list=data[\"Denial\"].to_list()\n",
    "denial_t=tuple(denial_list)"
   ]
  },
  {
   "cell_type": "markdown",
   "metadata": {},
   "source": [
    "#### How sales are affected by different cities"
   ]
  },
  {
   "cell_type": "code",
   "execution_count": 31,
   "metadata": {},
   "outputs": [
    {
     "name": "stdout",
     "output_type": "stream",
     "text": [
      "{'Jaipur': 13} \t {'Jaipur': 30, 'Indore': 47, 'Kota': 7}\n"
     ]
    }
   ],
   "source": [
    "'''Creating two dictionaries, 'lead_yes' stores the names of city and the number of customers willing to purchase the project \n",
    "and 'lead_no' stores the name of the city and number of customers who are not willing to purchase the product'''\n",
    "\n",
    "\n",
    "lead_yes={}\n",
    "lead_no={}\n",
    "\n",
    "for i,j in zip(select_city_t,lead_interested_t):\n",
    "    if j==\"Yes\":\n",
    "        if i in lead_yes:\n",
    "            lead_yes[i]+=1\n",
    "            \n",
    "        else:\n",
    "            lead_yes[i]=1\n",
    "\n",
    "\n",
    "for i,j in zip(select_city_t,lead_interested_t):\n",
    "    if j==\"No\":\n",
    "        if i in lead_no:\n",
    "            lead_no[i]+=1\n",
    "            \n",
    "        else:\n",
    "            lead_no[i]=1\n",
    "            \n",
    "print(lead_no,\"\\t\",lead_yes)"
   ]
  },
  {
   "cell_type": "code",
   "execution_count": 32,
   "metadata": {},
   "outputs": [],
   "source": [
    "x=np.arange(0,3)\n",
    "x\n",
    "lead_no_v=[13,0,0]"
   ]
  },
  {
   "cell_type": "code",
   "execution_count": 33,
   "metadata": {},
   "outputs": [
    {
     "data": {
      "text/plain": [
       "[30, 47, 7]"
      ]
     },
     "execution_count": 33,
     "metadata": {},
     "output_type": "execute_result"
    }
   ],
   "source": [
    "y=list(lead_yes.values())\n",
    "y_=[0,13,0]\n",
    "city_names=list(lead_yes.keys())\n",
    "y"
   ]
  },
  {
   "cell_type": "code",
   "execution_count": 34,
   "metadata": {},
   "outputs": [
    {
     "data": {
      "image/png": "[encoded data removed]",
      "text/plain": [
       "<Figure size 432x288 with 1 Axes>"
      ]
     },
     "metadata": {
      "needs_background": "light"
     },
     "output_type": "display_data"
    }
   ],
   "source": [
    "#lead interested(yes) vs city\n",
    "\n",
    "plt.bar(x,y,width=0.3,label=\"Number of YES\", color=\"orange\")\n",
    "plt.bar(x+0.3,lead_no_v,width=0.3,label=\"Number of NO\", color=\"green\")\n",
    "plt.xticks(x,city_names)\n",
    "plt.xlabel(\"City\")\n",
    "plt.ylabel(\"No. of Leads Interested\")\n",
    "plt.title(\"City v/s No. of leads interested\")\n",
    "plt.legend()\n",
    "plt.show()"
   ]
  },
  {
   "cell_type": "markdown",
   "metadata": {},
   "source": [
    "#### Finding the REASONS FOR DENIAL"
   ]
  },
  {
   "cell_type": "code",
   "execution_count": 35,
   "metadata": {},
   "outputs": [],
   "source": [
    "deny={}\n",
    "for i,j,k in zip(select_city_t,lead_interested_t,denial_t):\n",
    "    if j==\"No\":\n",
    "        if i=='Jaipur':\n",
    "            if k in deny:\n",
    "                deny[k]+=1\n",
    "            \n",
    "            else:\n",
    "                deny[k]=1\n"
   ]
  },
  {
   "cell_type": "code",
   "execution_count": 36,
   "metadata": {},
   "outputs": [],
   "source": [
    "explodes=[0.12,0,0,0.14,0.2,0.1]"
   ]
  },
  {
   "cell_type": "code",
   "execution_count": 37,
   "metadata": {
    "scrolled": true
   },
   "outputs": [
    {
     "data": {
      "image/png": "[encoded data removed]",
      "text/plain": [
       "<Figure size 432x288 with 1 Axes>"
      ]
     },
     "metadata": {},
     "output_type": "display_data"
    }
   ],
   "source": [
    "plt.pie(deny.values(),labels=deny.keys(),explode=explodes,autopct='%1.1f%%', startangle=180,wedgeprops={\"edgecolor\":\"0\",'linewidth': 1,'linestyle': 'dashed', 'antialiased': True})\n",
    "plt.title(\"Reasons for Jaipur Lead to Deny Solar Panel\")\n",
    "plt.legend(loc=\"upper right\",bbox_to_anchor=(1.7,1.7))\n",
    "plt.axis('equal')\n",
    "plt.show()"
   ]
  },
  {
   "cell_type": "markdown",
   "metadata": {},
   "source": [
    "#### Analyzing the value where the lead interested in project actually purchases the product or not"
   ]
  },
  {
   "cell_type": "code",
   "execution_count": 38,
   "metadata": {},
   "outputs": [],
   "source": [
    "'''\n",
    "'project_denied' stores the number of customers who were interested but did not purchase the product\n",
    "'project_accepted' stores the number of customers who were interested and purchased the product\n",
    "'''\n",
    "\n",
    "project_denied={}\n",
    "project_accepted={}\n",
    "\n",
    "for i,j in zip(project_confirmed_t,lead_interested_t):\n",
    "    if j==\"Yes\":\n",
    "        if i==\"No\":\n",
    "            if i in project_denied:\n",
    "                project_denied[i]+=1\n",
    "            \n",
    "            else:\n",
    "                project_denied[i]=1\n",
    "                \n",
    "        elif i==\"Yes\":\n",
    "            if i in project_accepted:\n",
    "                project_accepted[i]+=1\n",
    "            \n",
    "            else:\n",
    "                project_accepted[i]=1"
   ]
  },
  {
   "cell_type": "code",
   "execution_count": 39,
   "metadata": {},
   "outputs": [
    {
     "data": {
      "text/plain": [
       "{'No': 79}"
      ]
     },
     "execution_count": 39,
     "metadata": {},
     "output_type": "execute_result"
    }
   ],
   "source": [
    "project_denied"
   ]
  },
  {
   "cell_type": "code",
   "execution_count": 40,
   "metadata": {},
   "outputs": [
    {
     "data": {
      "text/plain": [
       "{'Yes': 5}"
      ]
     },
     "execution_count": 40,
     "metadata": {},
     "output_type": "execute_result"
    }
   ],
   "source": [
    "project_accepted"
   ]
  },
  {
   "cell_type": "code",
   "execution_count": 41,
   "metadata": {},
   "outputs": [],
   "source": [
    "prodk=list(project_denied.keys())\n",
    "proak=list(project_accepted.keys())\n",
    "pk=prodk+proak"
   ]
  },
  {
   "cell_type": "code",
   "execution_count": 42,
   "metadata": {},
   "outputs": [],
   "source": [
    "prodv=list(project_denied.values())\n",
    "proav=list(project_accepted.values())\n",
    "pv=prodv+proav"
   ]
  },
  {
   "cell_type": "code",
   "execution_count": 43,
   "metadata": {},
   "outputs": [],
   "source": [
    "color=['Purple','Yellow']\n",
    "explode=[0.2,0]"
   ]
  },
  {
   "cell_type": "code",
   "execution_count": 44,
   "metadata": {
    "scrolled": true
   },
   "outputs": [
    {
     "data": {
      "image/png": "[encoded data removed]",
      "text/plain": [
       "<Figure size 432x288 with 1 Axes>"
      ]
     },
     "metadata": {},
     "output_type": "display_data"
    }
   ],
   "source": [
    "plt.pie(pv,labels=pk,colors=color,explode=explode,autopct='%1.1f%%', startangle=180,wedgeprops={\"edgecolor\":\"0\",'linewidth': 1,'linestyle': 'dashed', 'antialiased': True})\n",
    "plt.title(\"FINAL RESPONSE FOR INSTALLATION WHEN LEAD SHOWED INTEREST\")\n",
    "plt.legend()\n",
    "plt.axis('equal')\n",
    "plt.show()"
   ]
  },
  {
   "cell_type": "markdown",
   "metadata": {},
   "source": [
    "#### Income of the Customers effect the sale of the product or not"
   ]
  },
  {
   "cell_type": "code",
   "execution_count": 45,
   "metadata": {},
   "outputs": [],
   "source": [
    "range_0_10000_y={}\n",
    "range_10000_20000_y={}\n",
    "range_20000_y={}\n",
    "range_0_10000_n={}\n",
    "range_10000_20000_n={}\n",
    "range_20000_n={}\n",
    "\n",
    "\n",
    "key1='(0-10000)Rupees'\n",
    "key2='(10001-20000)Rupees'\n",
    "key3='(20000+)Rupees'\n",
    "key4='(0-10000)Rupees'\n",
    "key5='(10001-20000)Rupees'\n",
    "key6='(20000+)Rupees'\n",
    "\n",
    "\n",
    "for i,j in zip(average_bill_t,lead_interested_t):\n",
    "    if j==\"Yes\":\n",
    "        if i<10001:\n",
    "            if key1 in range_0_10000_y:\n",
    "                range_0_10000_y[key1]+=1\n",
    "            \n",
    "            else:\n",
    "                range_0_10000_y[key1]=1\n",
    "        \n",
    "        elif i>10000 and i<20001:\n",
    "            if key2 in range_10000_20000_y:\n",
    "                range_10000_20000_y[key2]+=1\n",
    "            \n",
    "            else:\n",
    "                range_10000_20000_y[key2]=1\n",
    "                \n",
    "        elif i>20000:\n",
    "            if key3 in range_20000_y:\n",
    "                range_20000_y[key3]+=1\n",
    "            \n",
    "            else:\n",
    "                range_20000_y[key3]=1                \n",
    "                \n",
    "\n",
    "for i,j in zip(average_bill_t,lead_interested_t):\n",
    "    if j==\"No\":\n",
    "        if i<10001:\n",
    "            if key4 in range_0_10000_n:\n",
    "                range_0_10000_n[key4]+=1\n",
    "            \n",
    "            else:\n",
    "                range_0_10000_n[key4]=1\n",
    "        \n",
    "        elif i>10000 and i<20001:\n",
    "            if key5 in range_10000_20000_n:\n",
    "                range_10000_20000_n[key5]+=1\n",
    "            \n",
    "            else:\n",
    "                range_10000_20000_n[key5]=1\n",
    "                \n",
    "        elif i>20000:\n",
    "            if key6 in range_20000_n:\n",
    "                range_20000_n[key6]+=1\n",
    "            \n",
    "            else:\n",
    "                range_20000_n[key6]=1                "
   ]
  },
  {
   "cell_type": "code",
   "execution_count": 46,
   "metadata": {},
   "outputs": [],
   "source": [
    "ayk=list(range_0_10000_y.keys())\n",
    "ayv=list(range_0_10000_y.values())"
   ]
  },
  {
   "cell_type": "code",
   "execution_count": 47,
   "metadata": {},
   "outputs": [],
   "source": [
    "byk=list(range_10000_20000_y.keys())\n",
    "byv=list(range_10000_20000_y.values())"
   ]
  },
  {
   "cell_type": "code",
   "execution_count": 48,
   "metadata": {},
   "outputs": [],
   "source": [
    "cyk=list(range_20000_y.keys())\n",
    "cyv=list(range_20000_y.values())"
   ]
  },
  {
   "cell_type": "code",
   "execution_count": 49,
   "metadata": {},
   "outputs": [],
   "source": [
    "ank=list(range_0_10000_n.keys())\n",
    "anv=list(range_0_10000_n.values())"
   ]
  },
  {
   "cell_type": "code",
   "execution_count": 50,
   "metadata": {},
   "outputs": [],
   "source": [
    "bnk=list(range_10000_20000_n.keys())\n",
    "bnv=list(range_10000_20000_n.values())"
   ]
  },
  {
   "cell_type": "code",
   "execution_count": 51,
   "metadata": {},
   "outputs": [],
   "source": [
    "cnk=list(range_20000_n.keys())\n",
    "cnv=list(range_20000_n.values())"
   ]
  },
  {
   "cell_type": "code",
   "execution_count": 52,
   "metadata": {},
   "outputs": [
    {
     "data": {
      "text/plain": [
       "[75, 5, 4]"
      ]
     },
     "execution_count": 52,
     "metadata": {},
     "output_type": "execute_result"
    }
   ],
   "source": [
    "yk=ayk+byk+cyk\n",
    "yv=ayv+byv+cyv\n",
    "yv"
   ]
  },
  {
   "cell_type": "code",
   "execution_count": 53,
   "metadata": {},
   "outputs": [],
   "source": [
    "nk=ank+bnk+cnk\n",
    "nv=[13,0,0]"
   ]
  },
  {
   "cell_type": "code",
   "execution_count": 54,
   "metadata": {},
   "outputs": [],
   "source": [
    "nv_numpy=np.array(nv)"
   ]
  },
  {
   "cell_type": "code",
   "execution_count": 55,
   "metadata": {},
   "outputs": [
    {
     "data": {
      "text/plain": [
       "array([0, 1, 2])"
      ]
     },
     "execution_count": 55,
     "metadata": {},
     "output_type": "execute_result"
    }
   ],
   "source": [
    "r=np.arange(0,3,1)"
   ]
  },
  {
   "cell_type": "code",
   "execution_count": 74,
   "metadata": {
    "scrolled": true
   },
   "outputs": [
    {
     "data": {
      "image/png": "[encoded data removed]",
      "text/plain": [
       "<Figure size 432x288 with 1 Axes>"
      ]
     },
     "metadata": {
      "needs_background": "light"
     },
     "output_type": "display_data"
    }
   ],
   "source": [
    "plt.bar(r,yv,width=0.3,label='No. of Lead Interested')\n",
    "plt.bar(r+0.3,nv,width=0.3,color='red',label='No. of Lead NOT Interested')\n",
    "plt.xticks(r,yk)\n",
    "plt.xlabel(\"Average Monthly Bill\")\n",
    "plt.ylabel(\"No. of Leads\")\n",
    "plt.title(\"Average Monthly Bill v/s Number of Customers\")\n",
    "plt.legend()\n",
    "plt.show()"
   ]
  },
  {
   "cell_type": "markdown",
   "metadata": {},
   "source": [
    "#### Number of applicances owned by the customers effect the sale of the product or not"
   ]
  },
  {
   "cell_type": "code",
   "execution_count": 57,
   "metadata": {},
   "outputs": [
    {
     "name": "stdout",
     "output_type": "stream",
     "text": [
      "{'0-5': 13} \t {'0-5': 76, '10+': 4, '6-10': 4}\n"
     ]
    }
   ],
   "source": [
    "lead_app_yes={}\n",
    "lead_app_no={}\n",
    "\n",
    "key1='0-5'\n",
    "key2='6-10'\n",
    "key3='10+'\n",
    "\n",
    "\n",
    "\n",
    "for i,j in zip(appliances_t,lead_interested_t):\n",
    "    if j==\"Yes\":\n",
    "        if i<6 and i>=0:\n",
    "            if key1 in lead_app_yes:\n",
    "                lead_app_yes[key1]+=1\n",
    "            \n",
    "            else:\n",
    "                lead_app_yes[key1]=1\n",
    "                \n",
    "        elif i>=6 and i<=10:\n",
    "            if key2 in lead_app_yes:\n",
    "                lead_app_yes[key2]+=1\n",
    "            \n",
    "            else:\n",
    "                lead_app_yes[key2]=1                \n",
    "                \n",
    "        if i>10:\n",
    "            if key3 in lead_app_yes:\n",
    "                lead_app_yes[key3]+=1\n",
    "            \n",
    "            else:\n",
    "                lead_app_yes[key3]=1\n",
    "                \n",
    "                \n",
    "                \n",
    "\n",
    "for i,j in zip(appliances_t,lead_interested_t):\n",
    "    if j==\"No\":\n",
    "        if i<6 and i>=0:\n",
    "            if key1 in lead_app_no:\n",
    "                lead_app_no[key1]+=1\n",
    "            \n",
    "            else:\n",
    "                lead_app_no[key1]=1\n",
    "                \n",
    "        elif i>10:\n",
    "            if key3 in lead_app_no:\n",
    "                lead_app_no[key3]+=1\n",
    "            \n",
    "            else:\n",
    "                lead_app_no[key3]=1             \n",
    "                \n",
    "                \n",
    "        elif i>=6 and i<=10:\n",
    "            if key2 in lead_app_no:\n",
    "                lead_app_no[key2]+=1\n",
    "           \n",
    "            else:\n",
    "                lead_app_no[key2]=1                \n",
    "                \n",
    "\n",
    "            \n",
    "print(lead_app_no,\"\\t\",lead_app_yes)"
   ]
  },
  {
   "cell_type": "code",
   "execution_count": 58,
   "metadata": {},
   "outputs": [],
   "source": [
    "ran=np.arange(0,3,1)"
   ]
  },
  {
   "cell_type": "code",
   "execution_count": 59,
   "metadata": {},
   "outputs": [],
   "source": [
    "lead_a_n=[13,0,0]"
   ]
  },
  {
   "cell_type": "code",
   "execution_count": 60,
   "metadata": {
    "scrolled": true
   },
   "outputs": [
    {
     "data": {
      "image/png": "[encoded data removed]",
      "text/plain": [
       "<Figure size 432x288 with 1 Axes>"
      ]
     },
     "metadata": {
      "needs_background": "light"
     },
     "output_type": "display_data"
    }
   ],
   "source": [
    "plt.bar(r,lead_app_yes.values(),width=0.3,label=\"Lead Interested\", color='Green')\n",
    "plt.bar(r+0.3,lead_a_n,width=0.3,label=\"Lead NOT Interested\", color='black')\n",
    "plt.xticks(r,lead_app_yes.keys())\n",
    "plt.xlabel(\"No. of Appliances\")\n",
    "plt.ylabel(\"No. of Leads\")\n",
    "plt.title(\"No. of Appliances v/s Lead Interested or NOT\")\n",
    "plt.legend()\n",
    "plt.show()"
   ]
  },
  {
   "cell_type": "markdown",
   "metadata": {},
   "source": [
    "#### The Occupation of the customers effect the sale of the product or not"
   ]
  },
  {
   "cell_type": "code",
   "execution_count": 61,
   "metadata": {},
   "outputs": [],
   "source": [
    "occ_yes={}\n",
    "occ_no={}\n",
    "\n",
    "for i,j in zip(lead_occupation_t,lead_interested_t):\n",
    "    if j==\"Yes\":\n",
    "        if i in occ_yes:\n",
    "            occ_yes[i]+=1\n",
    "            \n",
    "        else:\n",
    "            occ_yes[i]=1\n",
    "                \n",
    "    if j==\"No\":\n",
    "        if i in occ_no:\n",
    "            occ_no[i]+=1\n",
    "            \n",
    "        else:\n",
    "            occ_no[i]=1"
   ]
  },
  {
   "cell_type": "code",
   "execution_count": 62,
   "metadata": {},
   "outputs": [
    {
     "data": {
      "text/plain": [
       "{'Businessmen': 13}"
      ]
     },
     "execution_count": 62,
     "metadata": {},
     "output_type": "execute_result"
    }
   ],
   "source": [
    "occ_no"
   ]
  },
  {
   "cell_type": "code",
   "execution_count": 63,
   "metadata": {},
   "outputs": [
    {
     "data": {
      "text/plain": [
       "{'Bank manger retiered': 1,\n",
       " 'Businessmen': 74,\n",
       " 'Private Job': 2,\n",
       " 'Hostel owner': 1,\n",
       " 'Government Employee': 5,\n",
       " 'Shopkeeper': 1}"
      ]
     },
     "execution_count": 63,
     "metadata": {},
     "output_type": "execute_result"
    }
   ],
   "source": [
    "occ_yes"
   ]
  },
  {
   "cell_type": "code",
   "execution_count": 64,
   "metadata": {},
   "outputs": [],
   "source": [
    "explode=[0.4,0,0.1,0.4,0.1,0.4]"
   ]
  },
  {
   "cell_type": "markdown",
   "metadata": {},
   "source": [
    "#### The occupation which led to the purchase of the product"
   ]
  },
  {
   "cell_type": "code",
   "execution_count": 65,
   "metadata": {
    "scrolled": true
   },
   "outputs": [
    {
     "data": {
      "image/png": "[encoded data removed]",
      "text/plain": [
       "<Figure size 432x288 with 1 Axes>"
      ]
     },
     "metadata": {},
     "output_type": "display_data"
    }
   ],
   "source": [
    "plt.pie(occ_yes.values(),labels=occ_yes.keys(),explode=explode,startangle=270,wedgeprops={\"edgecolor\":\"0\",'linewidth': 1})\n",
    "plt.legend(loc=\"upper right\",bbox_to_anchor=(1.5,1.5),labels=[\"%s,%1.1f%%\"%(l,(float(s)/sum(occ_yes.values())*100)) for l,s in zip(occ_yes.keys(),occ_yes.values())])\n",
    "plt.show()"
   ]
  },
  {
   "cell_type": "markdown",
   "metadata": {},
   "source": [
    "#### Types of power back-up owned by the customers effect the sale of the product or not"
   ]
  },
  {
   "cell_type": "code",
   "execution_count": 66,
   "metadata": {},
   "outputs": [
    {
     "name": "stdout",
     "output_type": "stream",
     "text": [
      "{'Lead interested having Power Backup': 9} \t {'Lead interested having No Power Backup': 75} \t {'Lead NOT interested having No Power Backup': 13} \t {}\n"
     ]
    }
   ],
   "source": [
    "lead_interested_yes_backup={}\n",
    "lead_interested_no_backup={}\n",
    "lead_not_interested_no_backup={}\n",
    "lead_not_interested_yes_backup={}\n",
    "\n",
    "\n",
    "key1=\"Lead interested having Power Backup\"\n",
    "key2=\"Lead interested having No Power Backup\"\n",
    "key3=\"Lead NOT interested having No Power Backup\"\n",
    "key4=\"Lead NOT interested having Power Backup\"\n",
    "\n",
    "\n",
    "for i,j in zip(power_backup_t,lead_interested_t):\n",
    "    if j==\"Yes\":\n",
    "        if i==\"NO\":\n",
    "            if key2 in lead_interested_no_backup:\n",
    "                lead_interested_no_backup[key2]+=1\n",
    "            \n",
    "            else:\n",
    "                lead_interested_no_backup[key2]=1\n",
    "\n",
    "\n",
    "for i,j in zip(power_backup_t,lead_interested_t):\n",
    "    if j==\"Yes\":\n",
    "        if i==\"YES\":\n",
    "            if key1 in lead_interested_yes_backup:\n",
    "                lead_interested_yes_backup[key1]+=1\n",
    "            \n",
    "            else:\n",
    "                lead_interested_yes_backup[key1]=1\n",
    "                \n",
    "                \n",
    "for i,j in zip(power_backup_t,lead_interested_t):\n",
    "    if j==\"No\":\n",
    "        if i==\"NO\":\n",
    "            if key3 in lead_not_interested_no_backup:\n",
    "                lead_not_interested_no_backup[key3]+=1\n",
    "            \n",
    "            else:\n",
    "                lead_not_interested_no_backup[key3]=1\n",
    "                \n",
    "for i,j in zip(power_backup_t,lead_interested_t):\n",
    "    if j==\"No\":\n",
    "        if i==\"YES\":\n",
    "            if key4 in lead_not_interested_yes_backup:\n",
    "                lead_not_interested_yes_backup[key4]+=1\n",
    "            \n",
    "            else:\n",
    "                lead_not_interested_yes_backup[key4]=1\n",
    "            \n",
    "print(lead_interested_yes_backup,\"\\t\",lead_interested_no_backup,\"\\t\",lead_not_interested_no_backup,\"\\t\",lead_not_interested_yes_backup)"
   ]
  },
  {
   "cell_type": "code",
   "execution_count": 67,
   "metadata": {},
   "outputs": [
    {
     "data": {
      "text/plain": [
       "['Lead interested having Power Backup',\n",
       " 'Lead interested having No Power Backup',\n",
       " 'Lead NOT interested having No Power Backup',\n",
       " 'Lead NOT interested having Power Backup']"
      ]
     },
     "execution_count": 67,
     "metadata": {},
     "output_type": "execute_result"
    }
   ],
   "source": [
    "liybk=list(lead_interested_yes_backup.keys())\n",
    "linbk=list(lead_interested_no_backup.keys())\n",
    "lninbk=list(lead_not_interested_no_backup.keys())\n",
    "lniybk=list(lead_not_interested_yes_backup.keys())\n",
    "\n",
    "lk=liybk+linbk+lninbk\n",
    "\n",
    "lk.append(key4)\n",
    "lk"
   ]
  },
  {
   "cell_type": "code",
   "execution_count": 68,
   "metadata": {},
   "outputs": [
    {
     "data": {
      "text/plain": [
       "[9, 75, 13, 0]"
      ]
     },
     "execution_count": 68,
     "metadata": {},
     "output_type": "execute_result"
    }
   ],
   "source": [
    "liybv=list(lead_interested_yes_backup.values())\n",
    "linbv=list(lead_interested_no_backup.values())\n",
    "lninbv=list(lead_not_interested_no_backup.values())\n",
    "lniybv=list(lead_not_interested_yes_backup.values())\n",
    "\n",
    "lv=liybv+linbv+lninbv\n",
    "\n",
    "lv.append(0)\n",
    "lv"
   ]
  },
  {
   "cell_type": "code",
   "execution_count": 69,
   "metadata": {},
   "outputs": [
    {
     "data": {
      "image/png": "[encoded data removed]",
      "text/plain": [
       "<Figure size 432x288 with 1 Axes>"
      ]
     },
     "metadata": {
      "needs_background": "light"
     },
     "output_type": "display_data"
    }
   ],
   "source": [
    "plt.barh(lk,lv,alpha=0.8,edgecolor=\"black\",color=['Yellow','Red','Orange','Maroon'])\n",
    "plt.xlabel(\"No. of Leads\")\n",
    "plt.ylabel(\"Types of Lead\")\n",
    "plt.title(\"Types of Leads in reference to Power Backup\")\n",
    "plt.show()"
   ]
  }
 ],
 "metadata": {
  "kernelspec": {
   "display_name": "Python 3",
   "language": "python",
   "name": "python3"
  },
  "language_info": {
   "codemirror_mode": {
    "name": "ipython",
    "version": 3
   },
   "file_extension": ".py",
   "mimetype": "text/x-python",
   "name": "python",
   "nbconvert_exporter": "python",
   "pygments_lexer": "ipython3",
   "version": "3.7.6"
  }
 },
 "nbformat": 4,
 "nbformat_minor": 4
}
